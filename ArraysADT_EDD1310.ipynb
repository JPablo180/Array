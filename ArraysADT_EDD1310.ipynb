{
  "nbformat": 4,
  "nbformat_minor": 0,
  "metadata": {
    "colab": {
      "name": "ArraysADT_EDD1310.ipynb",
      "provenance": [],
      "collapsed_sections": []
    },
    "kernelspec": {
      "name": "python3",
      "display_name": "Python 3"
    },
    "language_info": {
      "name": "python"
    }
  },
  "cells": [
    {
      "cell_type": "markdown",
      "metadata": {
        "id": "IJKji7a2fjGf"
      },
      "source": [
        ""
      ]
    },
    {
      "cell_type": "code",
      "metadata": {
        "colab": {
          "base_uri": "https://localhost:8080/"
        },
        "id": "2oyLBSe4fhBm",
        "outputId": "8c01b6ea-0580-4156-9893-64850b40cd59"
      },
      "source": [
        "class Array:\n",
        "  def __init__ (self, tam):\n",
        "    self.__tamano = tam\n",
        "    self.__data = [ 0 for x in range(self.__tamano) ]\n",
        "  def to_string( self ):\n",
        "    info = \"\"\n",
        "    for dato in self.__data:\n",
        "      info = info + str(dato) + \" | \"\n",
        "    return info\n",
        "\n",
        "  def get_item(self , index):\n",
        "    return self.__data[index]\n",
        "\n",
        "\n",
        "  def get_lenght(self ):\n",
        "    return len( self.__data)\n",
        "\n",
        "  def set_item(self , dato , index ):\n",
        "    # Hace falta revisar los limites\n",
        "    if index >= 0 and index < self.get_lenght():\n",
        "      self.__data[index] = dato\n",
        "    else:\n",
        "      print(\"Error : Indice fuera de rango\")\n",
        "\n",
        "  def clear(self, dato):\n",
        "    self.__data = [ dato for x in range(self.__tamano) ]\n",
        "\n",
        "\n",
        "  \n",
        "\n",
        "ejemplo = Array(20)\n",
        "print( ejemplo.to_string())\n",
        "print(ejemplo.get_item(2))\n",
        "print(ejemplo.set_item(45 , 2))\n",
        "print(ejemplo.to_string())\n",
        "ejemplo.clear(4)\n",
        "print(ejemplo.to_string())\n",
        "print(ejemplo.get_lenght())"
      ],
      "execution_count": 17,
      "outputs": [
        {
          "output_type": "stream",
          "name": "stdout",
          "text": [
            "0 | 0 | 0 | 0 | 0 | 0 | 0 | 0 | 0 | 0 | 0 | 0 | 0 | 0 | 0 | 0 | 0 | 0 | 0 | 0 | \n",
            "0\n",
            "None\n",
            "0 | 0 | 45 | 0 | 0 | 0 | 0 | 0 | 0 | 0 | 0 | 0 | 0 | 0 | 0 | 0 | 0 | 0 | 0 | 0 | \n",
            "4 | 4 | 4 | 4 | 4 | 4 | 4 | 4 | 4 | 4 | 4 | 4 | 4 | 4 | 4 | 4 | 4 | 4 | 4 | 4 | \n",
            "20\n"
          ]
        }
      ]
    },
    {
      "cell_type": "code",
      "metadata": {
        "colab": {
          "base_uri": "https://localhost:8080/"
        },
        "id": "89rHMRFSgdow",
        "outputId": "0d0a5990-f4c6-44fb-caf0-729e49fbca16"
      },
      "source": [
        "lista  = [ 3 * x for x in range(10)]\n",
        "print(lista)"
      ],
      "execution_count": 18,
      "outputs": [
        {
          "output_type": "stream",
          "name": "stdout",
          "text": [
            "[0, 3, 6, 9, 12, 15, 18, 21, 24, 27]\n"
          ]
        }
      ]
    },
    {
      "cell_type": "code",
      "metadata": {
        "colab": {
          "base_uri": "https://localhost:8080/"
        },
        "id": "EahEuQJCueJQ",
        "outputId": "9ac28114-e351-419f-95bc-497b33a9ac92"
      },
      "source": [
        "!cat junio.dat"
      ],
      "execution_count": 19,
      "outputs": [
        {
          "output_type": "stream",
          "name": "stdout",
          "text": [
            "numero de trabajador, nombres, paterno, materno, horas extra, sueldo base, año de ingreso\r\n",
            "2345,CARLOS,PEREZ,CASTILLO,0,9850,2017\r\n",
            "5754,ANGEL,GOMEZ,GARRIDO,1,9850,2020\r\n",
            "5345,JESUS,MARTIN,SANTOS,2,9850,2016\r\n",
            "3267,DAVID,JIMENEZ,LOZANO,2,9850,2017\r\n",
            "8765,PEDRO,RUIZ,GUERRERO,2,9850,2017\r\n",
            "5454,DANIEL,HERNANDEZ,CANO,3,9850,2018\r\n",
            "3456,ALEJANDRO,DIAZ,PRIETO,2,9850,2018\r\n",
            "3445,MARIA,MORENO,MENDEZ,1,9850,2018\r\n",
            "9088,ALBERTO,MU�OZ,CRUZ,1,9850,2017\r\n",
            "8877,RAFAEL,ALVAREZ,FLORES,2,9850,2017\r\n",
            "6767,FERNANDO,ROMERO,HERRERA,4,9850,2019\r\n",
            "5654,PABLO,ALONSO,GALLEGO,1,9850,2019\r\n",
            "4323,JORGE,GUTIERREZ,MARQUEZ,2,9850,2020\r\n",
            "2232,RAMON,NAVARRO,LEON,1,9850,2016"
          ]
        }
      ]
    },
    {
      "cell_type": "code",
      "metadata": {
        "colab": {
          "base_uri": "https://localhost:8080/"
        },
        "id": "w1BMuvqWujbh",
        "outputId": "a5fa0b6d-d625-465d-fb44-79512187803b"
      },
      "source": [
        "archivo = open('junio.dat' , 'rt' , encoding='latin-1' )\n",
        "print(archivo.read())"
      ],
      "execution_count": 20,
      "outputs": [
        {
          "output_type": "stream",
          "name": "stdout",
          "text": [
            "numero de trabajador, nombres, paterno, materno, horas extra, sueldo base, aÃ±o de ingreso\n",
            "2345,CARLOS,PEREZ,CASTILLO,0,9850,2017\n",
            "5754,ANGEL,GOMEZ,GARRIDO,1,9850,2020\n",
            "5345,JESUS,MARTIN,SANTOS,2,9850,2016\n",
            "3267,DAVID,JIMENEZ,LOZANO,2,9850,2017\n",
            "8765,PEDRO,RUIZ,GUERRERO,2,9850,2017\n",
            "5454,DANIEL,HERNANDEZ,CANO,3,9850,2018\n",
            "3456,ALEJANDRO,DIAZ,PRIETO,2,9850,2018\n",
            "3445,MARIA,MORENO,MENDEZ,1,9850,2018\n",
            "9088,ALBERTO,MUOZ,CRUZ,1,9850,2017\n",
            "8877,RAFAEL,ALVAREZ,FLORES,2,9850,2017\n",
            "6767,FERNANDO,ROMERO,HERRERA,4,9850,2019\n",
            "5654,PABLO,ALONSO,GALLEGO,1,9850,2019\n",
            "4323,JORGE,GUTIERREZ,MARQUEZ,2,9850,2020\n",
            "2232,RAMON,NAVARRO,LEON,1,9850,2016\n"
          ]
        }
      ]
    },
    {
      "cell_type": "code",
      "metadata": {
        "id": "-NQS0jQOupw9"
      },
      "source": [
        "class Trabajador:\n",
        "    def __init__( self , nt, nom, pat, mat, he, sb, ai ):\n",
        "        self.__numero_trabajador = nt \n",
        "      # asi para todos los atributos\n",
        "\n",
        "      # aqui van todos los métodos de acceso (get y set)\n",
        "    def set_numero_trabajador( self , nt ):\n",
        "        self.__numero_trabajador = nt \n",
        "        \n",
        "        # metodos de uso general --> metodos que hacen calculos de la logica"
      ],
      "execution_count": 21,
      "outputs": []
    },
    {
      "cell_type": "code",
      "metadata": {
        "id": "eLkPMTb1usWR"
      },
      "source": [
        "class NominaADT:\n",
        "    def __init__( self , ruta_archivo ):\n",
        "      # abir el archivo y determinar el numero de empleados (14)---> num_emp\n",
        "      sel.__dat = Array(num_emp)\n",
        "\n",
        "    def calcular_sueldos( self ):\n",
        "      # iterar sobre el Array y hacer el calculo de sueldos\n",
        "\n",
        "    def buscar_mas_antiguo(self):\n",
        "      # iterar y buscará enn el array el de mayor antiguedad\n",
        "\n",
        "    def buscar_menor_antiguedad( self ):\n",
        "      # iterar y buscará enn el array el de menor antiguedad"
      ],
      "execution_count": null,
      "outputs": []
    },
    {
      "cell_type": "code",
      "metadata": {
        "colab": {
          "base_uri": "https://localhost:8080/"
        },
        "id": "P5dkG9JCuuK3",
        "outputId": "d1d84f0c-0466-42f5-ff03-13b14cbb20be"
      },
      "source": [
        "sueldo_base = 100\n",
        "anio = 2019\n",
        "anti = 2\n",
        "prestacion = 100*(2*0.03)\n",
        "print(sueldo_base + prestacion)"
      ],
      "execution_count": 22,
      "outputs": [
        {
          "output_type": "stream",
          "name": "stdout",
          "text": [
            "106.0\n"
          ]
        }
      ]
    }
  ]
}